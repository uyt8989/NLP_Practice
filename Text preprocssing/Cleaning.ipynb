{
 "cells": [
  {
   "cell_type": "markdown",
   "id": "8f04da5b",
   "metadata": {},
   "source": [
    "# Cleaning 정제\n",
    "    갖고 있는 코퍼스로부터 노이즈 데이터를 제거\n",
    "\n",
    "## 1. 규칙에 기반해 표기가 다른 단어들을 통합\n",
    "    ex)USA와 US\n",
    "\n",
    "## 2. 대, 소문자 통합\n",
    "    ex) Automobile -> automobile But 고유명사는 지켜야됨\n",
    "\n",
    "## 3. 불필요한 단어 제거\n",
    "     1. 등장 빈도가 적은 단어\n",
    "     2. 길이가 짧은 단어\n",
    "\n",
    "## 4. 정규표현식 사용"
   ]
  },
  {
   "cell_type": "code",
   "execution_count": 1,
   "id": "6c87df7d",
   "metadata": {},
   "outputs": [],
   "source": [
    "import re"
   ]
  },
  {
   "cell_type": "code",
   "execution_count": 2,
   "id": "5054b339",
   "metadata": {},
   "outputs": [],
   "source": [
    "text = \"I was wondering if anyone out there could enlighten me on this char.\""
   ]
  },
  {
   "cell_type": "code",
   "execution_count": 3,
   "id": "6684b5fb",
   "metadata": {},
   "outputs": [
    {
     "name": "stdout",
     "output_type": "stream",
     "text": [
      " was wondering anyone out there could enlighten this char.\n"
     ]
    }
   ],
   "source": [
    "#erase words that are length 1~2\n",
    "shortword = re.compile(r'\\W*\\b\\w{1,2}\\b')\n",
    "print(shortword.sub(\"\", text))"
   ]
  }
 ],
 "metadata": {
  "kernelspec": {
   "display_name": "Python 3 (ipykernel)",
   "language": "python",
   "name": "python3"
  },
  "language_info": {
   "codemirror_mode": {
    "name": "ipython",
    "version": 3
   },
   "file_extension": ".py",
   "mimetype": "text/x-python",
   "name": "python",
   "nbconvert_exporter": "python",
   "pygments_lexer": "ipython3",
   "version": "3.9.7"
  }
 },
 "nbformat": 4,
 "nbformat_minor": 5
}
