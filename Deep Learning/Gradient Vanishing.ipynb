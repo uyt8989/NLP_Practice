{
 "cells": [
  {
   "cell_type": "markdown",
   "id": "e08a764d",
   "metadata": {},
   "source": [
    "### 1. ReLU, ReLU 변형 사용\n",
    "### 2. Gradient Clipping\n",
    "### 3. Weight initialization\n",
    "    1) Xavier Initialization\n",
    "    2) He Initialization\n",
    "### 4. Batch Normalization\n",
    "    1) Interanl Covariate Shift\n",
    "    2) Batch Normalization\n",
    "### 5. Layer Normalization"
   ]
  }
 ],
 "metadata": {
  "kernelspec": {
   "display_name": "Python 3 (ipykernel)",
   "language": "python",
   "name": "python3"
  },
  "language_info": {
   "codemirror_mode": {
    "name": "ipython",
    "version": 3
   },
   "file_extension": ".py",
   "mimetype": "text/x-python",
   "name": "python",
   "nbconvert_exporter": "python",
   "pygments_lexer": "ipython3",
   "version": "3.9.7"
  }
 },
 "nbformat": 4,
 "nbformat_minor": 5
}
