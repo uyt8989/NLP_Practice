{
 "cells": [
  {
   "cell_type": "markdown",
   "id": "f452135e",
   "metadata": {},
   "source": [
    "<img src=\"https://wikidocs.net/images/page/37406/backpropagation_1.PNG\" width='300'>"
   ]
  }
 ],
 "metadata": {
  "kernelspec": {
   "display_name": "Python 3 (ipykernel)",
   "language": "python",
   "name": "python3"
  },
  "language_info": {
   "codemirror_mode": {
    "name": "ipython",
    "version": 3
   },
   "file_extension": ".py",
   "mimetype": "text/x-python",
   "name": "python",
   "nbconvert_exporter": "python",
   "pygments_lexer": "ipython3",
   "version": "3.9.7"
  }
 },
 "nbformat": 4,
 "nbformat_minor": 5
}
